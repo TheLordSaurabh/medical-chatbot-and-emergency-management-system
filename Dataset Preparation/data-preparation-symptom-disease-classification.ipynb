{
 "cells": [
  {
   "cell_type": "code",
   "execution_count": 1,
   "id": "2d90ab96",
   "metadata": {
    "execution": {
     "iopub.execute_input": "2024-06-11T08:42:43.325756Z",
     "iopub.status.busy": "2024-06-11T08:42:43.324801Z",
     "iopub.status.idle": "2024-06-11T08:42:44.140725Z",
     "shell.execute_reply": "2024-06-11T08:42:44.139596Z"
    },
    "papermill": {
     "duration": 0.827389,
     "end_time": "2024-06-11T08:42:44.143404",
     "exception": false,
     "start_time": "2024-06-11T08:42:43.316015",
     "status": "completed"
    },
    "tags": []
   },
   "outputs": [
    {
     "name": "stdout",
     "output_type": "stream",
     "text": [
      "                                                text       disease\n",
      "0  fever,cough,sore throat,runny or stuffy nose,m...           Flu\n",
      "1  cough,mucus production,shortness of breath,che...    Bronchitis\n",
      "2  fever,cough,shortness of breath,chest pain,fat...     Pneumonia\n",
      "3  chest pain,shortness of breath,nausea,vomiting...  Heart Attack\n",
      "4  sudden weakness,numbness on one side of the bo...        Stroke\n"
     ]
    }
   ],
   "source": [
    "import pandas as pd\n",
    "\n",
    "# Load the dataset\n",
    "dataset_df = pd.read_csv('/kaggle/input/disease-prediction-based-on-symptoms/dataset.csv')  # Update the path if necessary\n",
    "\n",
    "# Drop the unwanted columns\n",
    "dataset_df = dataset_df.drop(columns=['cures', 'doctor', 'risk level'])\n",
    "\n",
    "# Rename the 'symptoms' column to 'text'\n",
    "dataset_df = dataset_df.rename(columns={'symptoms': 'text'})\n",
    "\n",
    "# Reorder the columns to have 'text' and 'disease'\n",
    "dataset_df = dataset_df[['text', 'disease']]\n",
    "\n",
    "# Convert both columns to string\n",
    "dataset_df['text'] = dataset_df['text'].astype(str)\n",
    "dataset_df['disease'] = dataset_df['disease'].astype(str)\n",
    "\n",
    "# Trim leading and trailing spaces in the 'text' column\n",
    "dataset_df['text'] = dataset_df['text'].str.strip()\n",
    "\n",
    "# Process the 'disease' column\n",
    "dataset_df['disease'] = dataset_df['disease'].apply(lambda x: ' '.join(word.capitalize() for word in x.split()).strip())\n",
    "\n",
    "# Reorder the columns to have 'text' and 'disease'\n",
    "dataset_df = dataset_df[['text', 'disease']]\n",
    "\n",
    "# # Save the resulting dataframe to the specified folder path\n",
    "# output_path = '/kaggle/working/final_dataset.csv'\n",
    "# dataset_df.to_csv(output_path, index=False)\n",
    "\n",
    "# Display the dataframe\n",
    "print(dataset_df.head())\n",
    "\n"
   ]
  },
  {
   "cell_type": "code",
   "execution_count": 2,
   "id": "400b983e",
   "metadata": {
    "_cell_guid": "b1076dfc-b9ad-4769-8c92-a6c4dae69d19",
    "_uuid": "8f2839f25d086af736a60e9eeb907d3b93b6e0e5",
    "execution": {
     "iopub.execute_input": "2024-06-11T08:42:44.158619Z",
     "iopub.status.busy": "2024-06-11T08:42:44.158253Z",
     "iopub.status.idle": "2024-06-11T08:42:44.177632Z",
     "shell.execute_reply": "2024-06-11T08:42:44.176590Z"
    },
    "papermill": {
     "duration": 0.029939,
     "end_time": "2024-06-11T08:42:44.180393",
     "exception": false,
     "start_time": "2024-06-11T08:42:44.150454",
     "status": "completed"
    },
    "tags": []
   },
   "outputs": [
    {
     "name": "stdout",
     "output_type": "stream",
     "text": [
      "<class 'pandas.core.frame.DataFrame'>\n",
      "RangeIndex: 99 entries, 0 to 98\n",
      "Data columns (total 2 columns):\n",
      " #   Column   Non-Null Count  Dtype \n",
      "---  ------   --------------  ----- \n",
      " 0   text     99 non-null     object\n",
      " 1   disease  99 non-null     object\n",
      "dtypes: object(2)\n",
      "memory usage: 1.7+ KB\n"
     ]
    }
   ],
   "source": [
    "dataset_df.info()"
   ]
  },
  {
   "cell_type": "code",
   "execution_count": 3,
   "id": "af023265",
   "metadata": {
    "execution": {
     "iopub.execute_input": "2024-06-11T08:42:44.195685Z",
     "iopub.status.busy": "2024-06-11T08:42:44.195315Z",
     "iopub.status.idle": "2024-06-11T08:42:44.211803Z",
     "shell.execute_reply": "2024-06-11T08:42:44.210820Z"
    },
    "papermill": {
     "duration": 0.026956,
     "end_time": "2024-06-11T08:42:44.214223",
     "exception": false,
     "start_time": "2024-06-11T08:42:44.187267",
     "status": "completed"
    },
    "tags": []
   },
   "outputs": [
    {
     "data": {
      "text/html": [
       "<div>\n",
       "<style scoped>\n",
       "    .dataframe tbody tr th:only-of-type {\n",
       "        vertical-align: middle;\n",
       "    }\n",
       "\n",
       "    .dataframe tbody tr th {\n",
       "        vertical-align: top;\n",
       "    }\n",
       "\n",
       "    .dataframe thead th {\n",
       "        text-align: right;\n",
       "    }\n",
       "</style>\n",
       "<table border=\"1\" class=\"dataframe\">\n",
       "  <thead>\n",
       "    <tr style=\"text-align: right;\">\n",
       "      <th></th>\n",
       "      <th>text</th>\n",
       "      <th>disease</th>\n",
       "    </tr>\n",
       "  </thead>\n",
       "  <tbody>\n",
       "    <tr>\n",
       "      <th>count</th>\n",
       "      <td>99</td>\n",
       "      <td>99</td>\n",
       "    </tr>\n",
       "    <tr>\n",
       "      <th>unique</th>\n",
       "      <td>79</td>\n",
       "      <td>84</td>\n",
       "    </tr>\n",
       "    <tr>\n",
       "      <th>top</th>\n",
       "      <td>memory loss,confusion,difficulty thinking,chan...</td>\n",
       "      <td>Pneumonia</td>\n",
       "    </tr>\n",
       "    <tr>\n",
       "      <th>freq</th>\n",
       "      <td>4</td>\n",
       "      <td>3</td>\n",
       "    </tr>\n",
       "  </tbody>\n",
       "</table>\n",
       "</div>"
      ],
      "text/plain": [
       "                                                     text    disease\n",
       "count                                                  99         99\n",
       "unique                                                 79         84\n",
       "top     memory loss,confusion,difficulty thinking,chan...  Pneumonia\n",
       "freq                                                    4          3"
      ]
     },
     "execution_count": 3,
     "metadata": {},
     "output_type": "execute_result"
    }
   ],
   "source": [
    "dataset_df.describe()"
   ]
  },
  {
   "cell_type": "code",
   "execution_count": 4,
   "id": "f2c17e17",
   "metadata": {
    "execution": {
     "iopub.execute_input": "2024-06-11T08:42:44.230174Z",
     "iopub.status.busy": "2024-06-11T08:42:44.229797Z",
     "iopub.status.idle": "2024-06-11T08:42:44.261942Z",
     "shell.execute_reply": "2024-06-11T08:42:44.260662Z"
    },
    "papermill": {
     "duration": 0.042776,
     "end_time": "2024-06-11T08:42:44.264158",
     "exception": false,
     "start_time": "2024-06-11T08:42:44.221382",
     "status": "completed"
    },
    "tags": []
   },
   "outputs": [
    {
     "name": "stdout",
     "output_type": "stream",
     "text": [
      "Final Symptom2Disease Dataset:\n",
      "                                                text    disease\n",
      "0  I have been experiencing a skin rash on my arm...  Psoriasis\n",
      "1  My skin has been peeling, especially on my kne...  Psoriasis\n",
      "2  I have been experiencing joint pain in my fing...  Psoriasis\n",
      "3  There is a silver like dusting on my skin, esp...  Psoriasis\n",
      "4  My nails have small dents or pits in them, and...  Psoriasis\n"
     ]
    }
   ],
   "source": [
    "import pandas as pd\n",
    "\n",
    "# Load the dataset\n",
    "Symptom2Disease_df = pd.read_csv('/kaggle/input/symptom2disease/Symptom2Disease.csv')\n",
    "\n",
    "# Rename 'label' to 'disease' and reorder the columns\n",
    "Symptom2Disease_df = Symptom2Disease_df.rename(columns={'label': 'disease'})\n",
    "Symptom2Disease_df = Symptom2Disease_df[['text', 'disease']]\n",
    "\n",
    "# Convert both columns to string\n",
    "Symptom2Disease_df['text'] = Symptom2Disease_df['text'].astype(str)\n",
    "Symptom2Disease_df['disease'] = Symptom2Disease_df['disease'].astype(str)\n",
    "\n",
    "# Trim leading and trailing spaces in the 'text' column\n",
    "Symptom2Disease_df['text'] = Symptom2Disease_df['text'].str.strip()\n",
    "\n",
    "# Process the 'disease' column\n",
    "Symptom2Disease_df['disease'] = Symptom2Disease_df['disease'].apply(lambda x: ' '.join(word.capitalize() for word in x.split()).strip())\n",
    "\n",
    "\n",
    "Symptom2Disease_df = Symptom2Disease_df[['text', 'disease']]\n",
    "\n",
    "# final_Symptom2Disease_output_path = '/kaggle/working/final_Symptom2Disease.csv'\n",
    "# Symptom2Disease_df.to_csv(final_Symptom2Disease_output_path, index=False)\n",
    "\n",
    "# Display the final dataframe\n",
    "print(\"Final Symptom2Disease Dataset:\")\n",
    "print(Symptom2Disease_df.head())\n"
   ]
  },
  {
   "cell_type": "code",
   "execution_count": 5,
   "id": "77311b2b",
   "metadata": {
    "execution": {
     "iopub.execute_input": "2024-06-11T08:42:44.280727Z",
     "iopub.status.busy": "2024-06-11T08:42:44.279927Z",
     "iopub.status.idle": "2024-06-11T08:42:44.290729Z",
     "shell.execute_reply": "2024-06-11T08:42:44.289646Z"
    },
    "papermill": {
     "duration": 0.021664,
     "end_time": "2024-06-11T08:42:44.293219",
     "exception": false,
     "start_time": "2024-06-11T08:42:44.271555",
     "status": "completed"
    },
    "tags": []
   },
   "outputs": [
    {
     "name": "stdout",
     "output_type": "stream",
     "text": [
      "<class 'pandas.core.frame.DataFrame'>\n",
      "RangeIndex: 1200 entries, 0 to 1199\n",
      "Data columns (total 2 columns):\n",
      " #   Column   Non-Null Count  Dtype \n",
      "---  ------   --------------  ----- \n",
      " 0   text     1200 non-null   object\n",
      " 1   disease  1200 non-null   object\n",
      "dtypes: object(2)\n",
      "memory usage: 18.9+ KB\n"
     ]
    }
   ],
   "source": [
    "Symptom2Disease_df.info()"
   ]
  },
  {
   "cell_type": "code",
   "execution_count": 6,
   "id": "83180002",
   "metadata": {
    "execution": {
     "iopub.execute_input": "2024-06-11T08:42:44.309456Z",
     "iopub.status.busy": "2024-06-11T08:42:44.309093Z",
     "iopub.status.idle": "2024-06-11T08:42:44.324006Z",
     "shell.execute_reply": "2024-06-11T08:42:44.322983Z"
    },
    "papermill": {
     "duration": 0.025585,
     "end_time": "2024-06-11T08:42:44.326265",
     "exception": false,
     "start_time": "2024-06-11T08:42:44.300680",
     "status": "completed"
    },
    "tags": []
   },
   "outputs": [
    {
     "data": {
      "text/html": [
       "<div>\n",
       "<style scoped>\n",
       "    .dataframe tbody tr th:only-of-type {\n",
       "        vertical-align: middle;\n",
       "    }\n",
       "\n",
       "    .dataframe tbody tr th {\n",
       "        vertical-align: top;\n",
       "    }\n",
       "\n",
       "    .dataframe thead th {\n",
       "        text-align: right;\n",
       "    }\n",
       "</style>\n",
       "<table border=\"1\" class=\"dataframe\">\n",
       "  <thead>\n",
       "    <tr style=\"text-align: right;\">\n",
       "      <th></th>\n",
       "      <th>text</th>\n",
       "      <th>disease</th>\n",
       "    </tr>\n",
       "  </thead>\n",
       "  <tbody>\n",
       "    <tr>\n",
       "      <th>count</th>\n",
       "      <td>1200</td>\n",
       "      <td>1200</td>\n",
       "    </tr>\n",
       "    <tr>\n",
       "      <th>unique</th>\n",
       "      <td>1153</td>\n",
       "      <td>24</td>\n",
       "    </tr>\n",
       "    <tr>\n",
       "      <th>top</th>\n",
       "      <td>I've been feeling extremely scratchy, sick, an...</td>\n",
       "      <td>Psoriasis</td>\n",
       "    </tr>\n",
       "    <tr>\n",
       "      <th>freq</th>\n",
       "      <td>4</td>\n",
       "      <td>50</td>\n",
       "    </tr>\n",
       "  </tbody>\n",
       "</table>\n",
       "</div>"
      ],
      "text/plain": [
       "                                                     text    disease\n",
       "count                                                1200       1200\n",
       "unique                                               1153         24\n",
       "top     I've been feeling extremely scratchy, sick, an...  Psoriasis\n",
       "freq                                                    4         50"
      ]
     },
     "execution_count": 6,
     "metadata": {},
     "output_type": "execute_result"
    }
   ],
   "source": [
    "Symptom2Disease_df.describe()"
   ]
  },
  {
   "cell_type": "code",
   "execution_count": 7,
   "id": "321f252e",
   "metadata": {
    "execution": {
     "iopub.execute_input": "2024-06-11T08:42:44.342986Z",
     "iopub.status.busy": "2024-06-11T08:42:44.342603Z",
     "iopub.status.idle": "2024-06-11T08:42:44.612341Z",
     "shell.execute_reply": "2024-06-11T08:42:44.611358Z"
    },
    "papermill": {
     "duration": 0.280982,
     "end_time": "2024-06-11T08:42:44.614829",
     "exception": false,
     "start_time": "2024-06-11T08:42:44.333847",
     "status": "completed"
    },
    "tags": []
   },
   "outputs": [
    {
     "name": "stdout",
     "output_type": "stream",
     "text": [
      "Final DiseaseAndSymptoms Dataset:\n",
      "                                                text           disease\n",
      "0  itching,  skin_rash,  nodal_skin_eruptions,  d...  Fungal Infection\n",
      "1  skin_rash,  nodal_skin_eruptions,  dischromic ...  Fungal Infection\n",
      "2  itching,  nodal_skin_eruptions,  dischromic _p...  Fungal Infection\n",
      "3          itching,  skin_rash,  dischromic _patches  Fungal Infection\n",
      "4         itching,  skin_rash,  nodal_skin_eruptions  Fungal Infection\n"
     ]
    }
   ],
   "source": [
    "import pandas as pd\n",
    "\n",
    "# Load the dataset\n",
    "DiseaseAndSymptoms_df = pd.read_csv('/kaggle/input/disease-and-symptoms-dataset/DiseaseAndSymptoms.csv')\n",
    "\n",
    "# Rename the 'Disease' column to 'disease'\n",
    "DiseaseAndSymptoms_df = DiseaseAndSymptoms_df.rename(columns={'Disease': 'disease'})\n",
    "\n",
    "# Merge non-null symptoms into a single string\n",
    "DiseaseAndSymptoms_df['text'] = DiseaseAndSymptoms_df.apply(lambda row: ', '.join(symptom for symptom in row[1:] if pd.notnull(symptom)), axis=1)\n",
    "\n",
    "# Reorder the columns to have 'text' and 'disease'\n",
    "DiseaseAndSymptoms_df = DiseaseAndSymptoms_df[['text', 'disease']]\n",
    "\n",
    "# Drop the original symptom columns\n",
    "DiseaseAndSymptoms_df = DiseaseAndSymptoms_df.drop(columns=DiseaseAndSymptoms_df.columns[2:])\n",
    "\n",
    "# Convert both columns to string\n",
    "DiseaseAndSymptoms_df['text'] = DiseaseAndSymptoms_df['text'].astype(str)\n",
    "DiseaseAndSymptoms_df['disease'] = DiseaseAndSymptoms_df['disease'].astype(str)\n",
    "\n",
    "# Trim leading and trailing spaces in the 'text' column\n",
    "DiseaseAndSymptoms_df['text'] = DiseaseAndSymptoms_df['text'].str.strip()\n",
    "\n",
    "# Process the 'disease' column\n",
    "DiseaseAndSymptoms_df['disease'] = DiseaseAndSymptoms_df['disease'].apply(lambda x: ' '.join(word.capitalize() for word in x.split()).strip())\n",
    "\n",
    "\n",
    "# Reorder the columns to have 'text' and 'disease'\n",
    "DiseaseAndSymptoms_df = DiseaseAndSymptoms_df[['text', 'disease']]\n",
    "\n",
    "# # Save the final dataframe to the specified folder path\n",
    "# final_DiseaseAndSymptoms_output_path = '/kaggle/working/final_DiseaseAndSymptoms.csv'\n",
    "# DiseaseAndSymptoms_df.to_csv(final_DiseaseAndSymptoms_output_path, index=False)\n",
    "\n",
    "# Display the final dataframe\n",
    "print(\"Final DiseaseAndSymptoms Dataset:\")\n",
    "print(DiseaseAndSymptoms_df.head())\n"
   ]
  },
  {
   "cell_type": "code",
   "execution_count": 8,
   "id": "50c61902",
   "metadata": {
    "execution": {
     "iopub.execute_input": "2024-06-11T08:42:44.631690Z",
     "iopub.status.busy": "2024-06-11T08:42:44.631031Z",
     "iopub.status.idle": "2024-06-11T08:42:44.641631Z",
     "shell.execute_reply": "2024-06-11T08:42:44.640590Z"
    },
    "papermill": {
     "duration": 0.021831,
     "end_time": "2024-06-11T08:42:44.644207",
     "exception": false,
     "start_time": "2024-06-11T08:42:44.622376",
     "status": "completed"
    },
    "tags": []
   },
   "outputs": [
    {
     "name": "stdout",
     "output_type": "stream",
     "text": [
      "<class 'pandas.core.frame.DataFrame'>\n",
      "RangeIndex: 4920 entries, 0 to 4919\n",
      "Data columns (total 2 columns):\n",
      " #   Column   Non-Null Count  Dtype \n",
      "---  ------   --------------  ----- \n",
      " 0   text     4920 non-null   object\n",
      " 1   disease  4920 non-null   object\n",
      "dtypes: object(2)\n",
      "memory usage: 77.0+ KB\n"
     ]
    }
   ],
   "source": [
    "DiseaseAndSymptoms_df.info()"
   ]
  },
  {
   "cell_type": "code",
   "execution_count": 9,
   "id": "c7088c9e",
   "metadata": {
    "execution": {
     "iopub.execute_input": "2024-06-11T08:42:44.661281Z",
     "iopub.status.busy": "2024-06-11T08:42:44.660531Z",
     "iopub.status.idle": "2024-06-11T08:42:44.675720Z",
     "shell.execute_reply": "2024-06-11T08:42:44.674646Z"
    },
    "papermill": {
     "duration": 0.026435,
     "end_time": "2024-06-11T08:42:44.678335",
     "exception": false,
     "start_time": "2024-06-11T08:42:44.651900",
     "status": "completed"
    },
    "tags": []
   },
   "outputs": [
    {
     "data": {
      "text/html": [
       "<div>\n",
       "<style scoped>\n",
       "    .dataframe tbody tr th:only-of-type {\n",
       "        vertical-align: middle;\n",
       "    }\n",
       "\n",
       "    .dataframe tbody tr th {\n",
       "        vertical-align: top;\n",
       "    }\n",
       "\n",
       "    .dataframe thead th {\n",
       "        text-align: right;\n",
       "    }\n",
       "</style>\n",
       "<table border=\"1\" class=\"dataframe\">\n",
       "  <thead>\n",
       "    <tr style=\"text-align: right;\">\n",
       "      <th></th>\n",
       "      <th>text</th>\n",
       "      <th>disease</th>\n",
       "    </tr>\n",
       "  </thead>\n",
       "  <tbody>\n",
       "    <tr>\n",
       "      <th>count</th>\n",
       "      <td>4920</td>\n",
       "      <td>4920</td>\n",
       "    </tr>\n",
       "    <tr>\n",
       "      <th>unique</th>\n",
       "      <td>304</td>\n",
       "      <td>41</td>\n",
       "    </tr>\n",
       "    <tr>\n",
       "      <th>top</th>\n",
       "      <td>constipation,  pain_during_bowel_movements,  p...</td>\n",
       "      <td>Fungal Infection</td>\n",
       "    </tr>\n",
       "    <tr>\n",
       "      <th>freq</th>\n",
       "      <td>90</td>\n",
       "      <td>120</td>\n",
       "    </tr>\n",
       "  </tbody>\n",
       "</table>\n",
       "</div>"
      ],
      "text/plain": [
       "                                                     text           disease\n",
       "count                                                4920              4920\n",
       "unique                                                304                41\n",
       "top     constipation,  pain_during_bowel_movements,  p...  Fungal Infection\n",
       "freq                                                   90               120"
      ]
     },
     "execution_count": 9,
     "metadata": {},
     "output_type": "execute_result"
    }
   ],
   "source": [
    "DiseaseAndSymptoms_df.describe()"
   ]
  },
  {
   "cell_type": "code",
   "execution_count": 10,
   "id": "9b835e2d",
   "metadata": {
    "execution": {
     "iopub.execute_input": "2024-06-11T08:42:44.695868Z",
     "iopub.status.busy": "2024-06-11T08:42:44.695475Z",
     "iopub.status.idle": "2024-06-11T08:42:44.763471Z",
     "shell.execute_reply": "2024-06-11T08:42:44.762317Z"
    },
    "papermill": {
     "duration": 0.079901,
     "end_time": "2024-06-11T08:42:44.766000",
     "exception": false,
     "start_time": "2024-06-11T08:42:44.686099",
     "status": "completed"
    },
    "tags": []
   },
   "outputs": [
    {
     "name": "stdout",
     "output_type": "stream",
     "text": [
      "Symptom Disease Train Dataset without 'label' column:\n",
      "                                                text  \\\n",
      "0  I have been having migraines and headaches. I ...   \n",
      "1  I have asthma and I get wheezing and breathing...   \n",
      "2  Signs and symptoms of primary ovarian insuffic...   \n",
      "3  cough,high_fever,breathlessness,family_history...   \n",
      "4  chills,vomiting,high_fever,sweating,headache,n...   \n",
      "\n",
      "                     disease  \n",
      "0              Drug Reaction  \n",
      "1                    Allergy  \n",
      "2  Premature Ovarian Failure  \n",
      "3           Bronchial Asthma  \n",
      "4                    Malaria  \n"
     ]
    }
   ],
   "source": [
    "import pandas as pd\n",
    "\n",
    "# Load the dataset\n",
    "symptom_disease_train_df = pd.read_csv('/kaggle/input/all-symptom-disease/symptom_disease_train_dataset.csv')\n",
    "\n",
    "# Drop the 'label' column\n",
    "symptom_disease_train_df = symptom_disease_train_df.drop(columns=['label'])\n",
    "symptom_disease_train_df = symptom_disease_train_df[['text', 'disease']]\n",
    "# Convert both columns to string\n",
    "symptom_disease_train_df['text'] = symptom_disease_train_df['text'].astype(str)\n",
    "# Trim leading and trailing spaces in the 'text' column\n",
    "symptom_disease_train_df['text'] = symptom_disease_train_df['text'].str.strip()\n",
    "symptom_disease_train_df['disease'] = symptom_disease_train_df['disease'].astype(str)\n",
    "\n",
    "# Trim leading and trailing spaces in the 'text' column\n",
    "symptom_disease_train_df['text'] = symptom_disease_train_df['text'].str.strip()\n",
    "\n",
    "# Process the 'disease' column\n",
    "symptom_disease_train_df['disease'] = symptom_disease_train_df['disease'].apply(lambda x: ' '.join(word.capitalize() for word in x.split()).strip())\n",
    "\n",
    "\n",
    "\n",
    "symptom_disease_train_df = symptom_disease_train_df[['text', 'disease']]\n",
    "\n",
    "# # Save the resulting dataframe to the specified folder path\n",
    "# output_path = '/kaggle/working/final_symptom_disease_train_dataset.csv'\n",
    "# symptom_disease_train_df.to_csv(output_path, index=False)\n",
    "\n",
    "# Display the dataframe\n",
    "print(\"Symptom Disease Train Dataset without 'label' column:\")\n",
    "print(symptom_disease_train_df.head())\n"
   ]
  },
  {
   "cell_type": "code",
   "execution_count": 11,
   "id": "02a4ac16",
   "metadata": {
    "execution": {
     "iopub.execute_input": "2024-06-11T08:42:44.784408Z",
     "iopub.status.busy": "2024-06-11T08:42:44.783592Z",
     "iopub.status.idle": "2024-06-11T08:42:44.794766Z",
     "shell.execute_reply": "2024-06-11T08:42:44.793710Z"
    },
    "papermill": {
     "duration": 0.022934,
     "end_time": "2024-06-11T08:42:44.797604",
     "exception": false,
     "start_time": "2024-06-11T08:42:44.774670",
     "status": "completed"
    },
    "tags": []
   },
   "outputs": [
    {
     "name": "stdout",
     "output_type": "stream",
     "text": [
      "<class 'pandas.core.frame.DataFrame'>\n",
      "RangeIndex: 5580 entries, 0 to 5579\n",
      "Data columns (total 2 columns):\n",
      " #   Column   Non-Null Count  Dtype \n",
      "---  ------   --------------  ----- \n",
      " 0   text     5580 non-null   object\n",
      " 1   disease  5580 non-null   object\n",
      "dtypes: object(2)\n",
      "memory usage: 87.3+ KB\n"
     ]
    }
   ],
   "source": [
    "symptom_disease_train_df.info()"
   ]
  },
  {
   "cell_type": "code",
   "execution_count": 12,
   "id": "55bf79ed",
   "metadata": {
    "execution": {
     "iopub.execute_input": "2024-06-11T08:42:44.815258Z",
     "iopub.status.busy": "2024-06-11T08:42:44.814720Z",
     "iopub.status.idle": "2024-06-11T08:42:44.831788Z",
     "shell.execute_reply": "2024-06-11T08:42:44.830797Z"
    },
    "papermill": {
     "duration": 0.028597,
     "end_time": "2024-06-11T08:42:44.834057",
     "exception": false,
     "start_time": "2024-06-11T08:42:44.805460",
     "status": "completed"
    },
    "tags": []
   },
   "outputs": [
    {
     "data": {
      "text/html": [
       "<div>\n",
       "<style scoped>\n",
       "    .dataframe tbody tr th:only-of-type {\n",
       "        vertical-align: middle;\n",
       "    }\n",
       "\n",
       "    .dataframe tbody tr th {\n",
       "        vertical-align: top;\n",
       "    }\n",
       "\n",
       "    .dataframe thead th {\n",
       "        text-align: right;\n",
       "    }\n",
       "</style>\n",
       "<table border=\"1\" class=\"dataframe\">\n",
       "  <thead>\n",
       "    <tr style=\"text-align: right;\">\n",
       "      <th></th>\n",
       "      <th>text</th>\n",
       "      <th>disease</th>\n",
       "    </tr>\n",
       "  </thead>\n",
       "  <tbody>\n",
       "    <tr>\n",
       "      <th>count</th>\n",
       "      <td>5580</td>\n",
       "      <td>5580</td>\n",
       "    </tr>\n",
       "    <tr>\n",
       "      <th>unique</th>\n",
       "      <td>1939</td>\n",
       "      <td>811</td>\n",
       "    </tr>\n",
       "    <tr>\n",
       "      <th>top</th>\n",
       "      <td>back_pain,weakness_in_limbs,neck_pain,dizzines...</td>\n",
       "      <td>Cervical Spondylosis</td>\n",
       "    </tr>\n",
       "    <tr>\n",
       "      <th>freq</th>\n",
       "      <td>72</td>\n",
       "      <td>151</td>\n",
       "    </tr>\n",
       "  </tbody>\n",
       "</table>\n",
       "</div>"
      ],
      "text/plain": [
       "                                                     text  \\\n",
       "count                                                5580   \n",
       "unique                                               1939   \n",
       "top     back_pain,weakness_in_limbs,neck_pain,dizzines...   \n",
       "freq                                                   72   \n",
       "\n",
       "                     disease  \n",
       "count                   5580  \n",
       "unique                   811  \n",
       "top     Cervical Spondylosis  \n",
       "freq                     151  "
      ]
     },
     "execution_count": 12,
     "metadata": {},
     "output_type": "execute_result"
    }
   ],
   "source": [
    "symptom_disease_train_df.describe()"
   ]
  },
  {
   "cell_type": "code",
   "execution_count": 13,
   "id": "72de5a74",
   "metadata": {
    "execution": {
     "iopub.execute_input": "2024-06-11T08:42:44.853214Z",
     "iopub.status.busy": "2024-06-11T08:42:44.852358Z",
     "iopub.status.idle": "2024-06-11T08:42:44.885828Z",
     "shell.execute_reply": "2024-06-11T08:42:44.884535Z"
    },
    "papermill": {
     "duration": 0.045652,
     "end_time": "2024-06-11T08:42:44.888229",
     "exception": false,
     "start_time": "2024-06-11T08:42:44.842577",
     "status": "completed"
    },
    "tags": []
   },
   "outputs": [
    {
     "name": "stdout",
     "output_type": "stream",
     "text": [
      "Symptom Disease Test Dataset without 'label' column:\n",
      "                                                text  \\\n",
      "0  itching,vomiting,fatigue,weight_loss,high_feve...   \n",
      "1  fatigue,weight_loss,restlessness,sweating,diar...   \n",
      "2  constipation,pain_during_bowel_movements,pain_...   \n",
      "3  chills,vomiting,fatigue,weight_loss,cough,high...   \n",
      "4  vomiting,yellowish_skin,abdominal_pain,swellin...   \n",
      "\n",
      "                        disease  \n",
      "0                      Jaundice  \n",
      "1               Hyperthyroidism  \n",
      "2  Dimorphic Hemmorhoids(piles)  \n",
      "3                  Tuberculosis  \n",
      "4           Alcoholic Hepatitis  \n"
     ]
    }
   ],
   "source": [
    "import pandas as pd\n",
    "\n",
    "# Load the test dataset\n",
    "symptom_disease_test_df = pd.read_csv('/kaggle/input/all-symptom-disease/symptom_disease_test_dataset.csv')\n",
    "\n",
    "# Drop the 'label' column\n",
    "symptom_disease_test_df = symptom_disease_test_df.drop(columns=['label'])\n",
    "symptom_disease_test_df = symptom_disease_test_df[['text', 'disease']]\n",
    "\n",
    "# Convert both columns to string\n",
    "symptom_disease_test_df['text'] = symptom_disease_test_df['text'].astype(str)\n",
    "symptom_disease_test_df['disease'] = symptom_disease_test_df['disease'].astype(str)\n",
    "\n",
    "# Trim leading and trailing spaces in the 'text' column\n",
    "symptom_disease_test_df['text'] = symptom_disease_test_df['text'].str.strip()\n",
    "\n",
    "# Trim leading and trailing spaces in the 'text' column\n",
    "symptom_disease_test_df['text'] = symptom_disease_test_df['text'].str.strip()\n",
    "\n",
    "# Process the 'disease' column\n",
    "symptom_disease_test_df['disease'] = symptom_disease_test_df['disease'].apply(lambda x: ' '.join(word.capitalize() for word in x.split()).strip())\n",
    "\n",
    "\n",
    "symptom_disease_test_df = symptom_disease_test_df[['text', 'disease']]\n",
    "\n",
    "# # Save the resulting dataframe to the specified folder path\n",
    "# output_path = '/kaggle/working/final_symptom_disease_test_dataset.csv'\n",
    "# symptom_disease_test_df.to_csv(output_path, index=False)\n",
    "\n",
    "# Display the dataframe\n",
    "print(\"Symptom Disease Test Dataset without 'label' column:\")\n",
    "print(symptom_disease_test_df.head())\n"
   ]
  },
  {
   "cell_type": "code",
   "execution_count": 14,
   "id": "47eca237",
   "metadata": {
    "execution": {
     "iopub.execute_input": "2024-06-11T08:42:44.906054Z",
     "iopub.status.busy": "2024-06-11T08:42:44.905706Z",
     "iopub.status.idle": "2024-06-11T08:42:44.916010Z",
     "shell.execute_reply": "2024-06-11T08:42:44.914854Z"
    },
    "papermill": {
     "duration": 0.02223,
     "end_time": "2024-06-11T08:42:44.918583",
     "exception": false,
     "start_time": "2024-06-11T08:42:44.896353",
     "status": "completed"
    },
    "tags": []
   },
   "outputs": [
    {
     "name": "stdout",
     "output_type": "stream",
     "text": [
      "<class 'pandas.core.frame.DataFrame'>\n",
      "RangeIndex: 1395 entries, 0 to 1394\n",
      "Data columns (total 2 columns):\n",
      " #   Column   Non-Null Count  Dtype \n",
      "---  ------   --------------  ----- \n",
      " 0   text     1395 non-null   object\n",
      " 1   disease  1395 non-null   object\n",
      "dtypes: object(2)\n",
      "memory usage: 21.9+ KB\n"
     ]
    }
   ],
   "source": [
    "symptom_disease_test_df.info()"
   ]
  },
  {
   "cell_type": "code",
   "execution_count": 15,
   "id": "60d8d787",
   "metadata": {
    "execution": {
     "iopub.execute_input": "2024-06-11T08:42:44.936628Z",
     "iopub.status.busy": "2024-06-11T08:42:44.935958Z",
     "iopub.status.idle": "2024-06-11T08:42:44.950234Z",
     "shell.execute_reply": "2024-06-11T08:42:44.949212Z"
    },
    "papermill": {
     "duration": 0.025679,
     "end_time": "2024-06-11T08:42:44.952342",
     "exception": false,
     "start_time": "2024-06-11T08:42:44.926663",
     "status": "completed"
    },
    "tags": []
   },
   "outputs": [
    {
     "data": {
      "text/html": [
       "<div>\n",
       "<style scoped>\n",
       "    .dataframe tbody tr th:only-of-type {\n",
       "        vertical-align: middle;\n",
       "    }\n",
       "\n",
       "    .dataframe tbody tr th {\n",
       "        vertical-align: top;\n",
       "    }\n",
       "\n",
       "    .dataframe thead th {\n",
       "        text-align: right;\n",
       "    }\n",
       "</style>\n",
       "<table border=\"1\" class=\"dataframe\">\n",
       "  <thead>\n",
       "    <tr style=\"text-align: right;\">\n",
       "      <th></th>\n",
       "      <th>text</th>\n",
       "      <th>disease</th>\n",
       "    </tr>\n",
       "  </thead>\n",
       "  <tbody>\n",
       "    <tr>\n",
       "      <th>count</th>\n",
       "      <td>1395</td>\n",
       "      <td>1395</td>\n",
       "    </tr>\n",
       "    <tr>\n",
       "      <th>unique</th>\n",
       "      <td>655</td>\n",
       "      <td>245</td>\n",
       "    </tr>\n",
       "    <tr>\n",
       "      <th>top</th>\n",
       "      <td>skin_rash,joint_pain,skin_peeling,silver_like_...</td>\n",
       "      <td>Diabetes</td>\n",
       "    </tr>\n",
       "    <tr>\n",
       "      <th>freq</th>\n",
       "      <td>27</td>\n",
       "      <td>43</td>\n",
       "    </tr>\n",
       "  </tbody>\n",
       "</table>\n",
       "</div>"
      ],
      "text/plain": [
       "                                                     text   disease\n",
       "count                                                1395      1395\n",
       "unique                                                655       245\n",
       "top     skin_rash,joint_pain,skin_peeling,silver_like_...  Diabetes\n",
       "freq                                                   27        43"
      ]
     },
     "execution_count": 15,
     "metadata": {},
     "output_type": "execute_result"
    }
   ],
   "source": [
    "symptom_disease_test_df.describe()"
   ]
  },
  {
   "cell_type": "code",
   "execution_count": 16,
   "id": "8ab719ec",
   "metadata": {
    "execution": {
     "iopub.execute_input": "2024-06-11T08:42:44.970721Z",
     "iopub.status.busy": "2024-06-11T08:42:44.970343Z",
     "iopub.status.idle": "2024-06-11T08:42:44.993856Z",
     "shell.execute_reply": "2024-06-11T08:42:44.992822Z"
    },
    "papermill": {
     "duration": 0.035391,
     "end_time": "2024-06-11T08:42:44.996158",
     "exception": false,
     "start_time": "2024-06-11T08:42:44.960767",
     "status": "completed"
    },
    "tags": []
   },
   "outputs": [
    {
     "name": "stdout",
     "output_type": "stream",
     "text": [
      "Final Merged Dataset:\n",
      "                                                   text  \\\n",
      "2413  vomiting,  nausea,  spinning_movements,  loss_...   \n",
      "4915  vomiting,  headache,  nausea,  spinning_moveme...   \n",
      "1370  vomiting,headache,nausea,spinning_movements,lo...   \n",
      "2412  headache,  nausea,  spinning_movements,  loss_...   \n",
      "2414  vomiting,  headache,  spinning_movements,  los...   \n",
      "\n",
      "                                     disease  \n",
      "2413  (vertigo) Paroymsal Positional Vertigo  \n",
      "4915  (vertigo) Paroymsal Positional Vertigo  \n",
      "1370  (vertigo) Paroymsal Positional Vertigo  \n",
      "2412  (vertigo) Paroymsal Positional Vertigo  \n",
      "2414  (vertigo) Paroymsal Positional Vertigo  \n",
      "Total rows in the final merged dataset: 3877\n"
     ]
    }
   ],
   "source": [
    "# Merge all dataframes\n",
    "merged_df = pd.concat([dataset_df, Symptom2Disease_df, DiseaseAndSymptoms_df, symptom_disease_train_df, symptom_disease_test_df])\n",
    "\n",
    "# Remove duplicate rows, keeping only one copy\n",
    "merged_df = merged_df.drop_duplicates(keep = 'last')\n",
    "\n",
    "# Sort the DataFrame based on the 'disease' column\n",
    "merged_df = merged_df.sort_values(by='disease')\n",
    "\n",
    "# # Save the resulting dataframe to the specified folder path\n",
    "# output_path = '/kaggle/working/final_merged_dataset.csv'\n",
    "# merged_df.to_csv(output_path, index=False)\n",
    "\n",
    "# Display the dataframe\n",
    "print(\"Final Merged Dataset:\")\n",
    "print(merged_df.head())\n",
    "print(f\"Total rows in the final merged dataset: {len(merged_df)}\")"
   ]
  },
  {
   "cell_type": "code",
   "execution_count": 17,
   "id": "43d59969",
   "metadata": {
    "execution": {
     "iopub.execute_input": "2024-06-11T08:42:45.014700Z",
     "iopub.status.busy": "2024-06-11T08:42:45.014302Z",
     "iopub.status.idle": "2024-06-11T08:42:45.031441Z",
     "shell.execute_reply": "2024-06-11T08:42:45.030418Z"
    },
    "papermill": {
     "duration": 0.029172,
     "end_time": "2024-06-11T08:42:45.033770",
     "exception": false,
     "start_time": "2024-06-11T08:42:45.004598",
     "status": "completed"
    },
    "tags": []
   },
   "outputs": [
    {
     "data": {
      "text/html": [
       "<div>\n",
       "<style scoped>\n",
       "    .dataframe tbody tr th:only-of-type {\n",
       "        vertical-align: middle;\n",
       "    }\n",
       "\n",
       "    .dataframe tbody tr th {\n",
       "        vertical-align: top;\n",
       "    }\n",
       "\n",
       "    .dataframe thead th {\n",
       "        text-align: right;\n",
       "    }\n",
       "</style>\n",
       "<table border=\"1\" class=\"dataframe\">\n",
       "  <thead>\n",
       "    <tr style=\"text-align: right;\">\n",
       "      <th></th>\n",
       "      <th>text</th>\n",
       "      <th>disease</th>\n",
       "    </tr>\n",
       "  </thead>\n",
       "  <tbody>\n",
       "    <tr>\n",
       "      <th>count</th>\n",
       "      <td>3877</td>\n",
       "      <td>3877</td>\n",
       "    </tr>\n",
       "    <tr>\n",
       "      <th>unique</th>\n",
       "      <td>3871</td>\n",
       "      <td>1052</td>\n",
       "    </tr>\n",
       "    <tr>\n",
       "      <th>top</th>\n",
       "      <td>memory loss,confusion,difficulty thinking,chan...</td>\n",
       "      <td>Diabetes</td>\n",
       "    </tr>\n",
       "    <tr>\n",
       "      <th>freq</th>\n",
       "      <td>2</td>\n",
       "      <td>120</td>\n",
       "    </tr>\n",
       "  </tbody>\n",
       "</table>\n",
       "</div>"
      ],
      "text/plain": [
       "                                                     text   disease\n",
       "count                                                3877      3877\n",
       "unique                                               3871      1052\n",
       "top     memory loss,confusion,difficulty thinking,chan...  Diabetes\n",
       "freq                                                    2       120"
      ]
     },
     "execution_count": 17,
     "metadata": {},
     "output_type": "execute_result"
    }
   ],
   "source": [
    "merged_df.describe()"
   ]
  },
  {
   "cell_type": "code",
   "execution_count": 18,
   "id": "fce7c816",
   "metadata": {
    "execution": {
     "iopub.execute_input": "2024-06-11T08:42:45.053249Z",
     "iopub.status.busy": "2024-06-11T08:42:45.052343Z",
     "iopub.status.idle": "2024-06-11T08:42:45.060971Z",
     "shell.execute_reply": "2024-06-11T08:42:45.060115Z"
    },
    "papermill": {
     "duration": 0.020833,
     "end_time": "2024-06-11T08:42:45.063250",
     "exception": false,
     "start_time": "2024-06-11T08:42:45.042417",
     "status": "completed"
    },
    "tags": []
   },
   "outputs": [],
   "source": [
    "import json\n",
    "\n",
    "# Get unique diseases from merged_df\n",
    "unique_diseases = merged_df['disease'].unique()\n",
    "\n",
    "# Create a dictionary to store the mapping\n",
    "disease_label_mapping = {}\n",
    "\n",
    "# Create mapping for each disease\n",
    "for idx, disease in enumerate(unique_diseases):\n",
    "    disease_label_mapping[disease] = idx\n",
    "\n",
    "# Save the mapping as a JSON file\n",
    "with open('/kaggle/working/disease_label_mapping.json', 'w') as f:\n",
    "    json.dump(disease_label_mapping, f)\n"
   ]
  },
  {
   "cell_type": "code",
   "execution_count": 19,
   "id": "620a9862",
   "metadata": {
    "execution": {
     "iopub.execute_input": "2024-06-11T08:42:45.082145Z",
     "iopub.status.busy": "2024-06-11T08:42:45.081784Z",
     "iopub.status.idle": "2024-06-11T08:42:46.366281Z",
     "shell.execute_reply": "2024-06-11T08:42:46.365112Z"
    },
    "papermill": {
     "duration": 1.296699,
     "end_time": "2024-06-11T08:42:46.368749",
     "exception": false,
     "start_time": "2024-06-11T08:42:45.072050",
     "status": "completed"
    },
    "tags": []
   },
   "outputs": [],
   "source": [
    "from sklearn.model_selection import train_test_split\n",
    "\n",
    "# Separate single rows and multiple rows based on disease\n",
    "single_df = merged_df[merged_df.disease.map(merged_df.disease.value_counts()) == 1]\n",
    "multiple_df = merged_df[merged_df.disease.map(merged_df.disease.value_counts()) > 1]\n",
    "\n",
    "# Split multiple_df into train and test sets for each disease\n",
    "train_df = pd.DataFrame(columns=['text', 'disease'])\n",
    "test_df = pd.DataFrame(columns=['text', 'disease'])\n",
    "\n",
    "for disease, group_df in multiple_df.groupby('disease'):\n",
    "    train_data, test_data = train_test_split(group_df, test_size=0.2, random_state=42)\n",
    "    train_df = pd.concat([train_df, train_data])\n",
    "    test_df = pd.concat([test_df, test_data])\n"
   ]
  },
  {
   "cell_type": "code",
   "execution_count": 20,
   "id": "f77e2d1c",
   "metadata": {
    "execution": {
     "iopub.execute_input": "2024-06-11T08:42:46.387761Z",
     "iopub.status.busy": "2024-06-11T08:42:46.387362Z",
     "iopub.status.idle": "2024-06-11T08:42:46.402786Z",
     "shell.execute_reply": "2024-06-11T08:42:46.401827Z"
    },
    "papermill": {
     "duration": 0.027577,
     "end_time": "2024-06-11T08:42:46.404950",
     "exception": false,
     "start_time": "2024-06-11T08:42:46.377373",
     "status": "completed"
    },
    "tags": []
   },
   "outputs": [
    {
     "data": {
      "text/html": [
       "<div>\n",
       "<style scoped>\n",
       "    .dataframe tbody tr th:only-of-type {\n",
       "        vertical-align: middle;\n",
       "    }\n",
       "\n",
       "    .dataframe tbody tr th {\n",
       "        vertical-align: top;\n",
       "    }\n",
       "\n",
       "    .dataframe thead th {\n",
       "        text-align: right;\n",
       "    }\n",
       "</style>\n",
       "<table border=\"1\" class=\"dataframe\">\n",
       "  <thead>\n",
       "    <tr style=\"text-align: right;\">\n",
       "      <th></th>\n",
       "      <th>text</th>\n",
       "      <th>disease</th>\n",
       "    </tr>\n",
       "  </thead>\n",
       "  <tbody>\n",
       "    <tr>\n",
       "      <th>count</th>\n",
       "      <td>970</td>\n",
       "      <td>970</td>\n",
       "    </tr>\n",
       "    <tr>\n",
       "      <th>unique</th>\n",
       "      <td>970</td>\n",
       "      <td>970</td>\n",
       "    </tr>\n",
       "    <tr>\n",
       "      <th>top</th>\n",
       "      <td>Abdominal aortic aneurysms often grow slowly w...</td>\n",
       "      <td>Abdominal Aortic Aneurysm</td>\n",
       "    </tr>\n",
       "    <tr>\n",
       "      <th>freq</th>\n",
       "      <td>1</td>\n",
       "      <td>1</td>\n",
       "    </tr>\n",
       "  </tbody>\n",
       "</table>\n",
       "</div>"
      ],
      "text/plain": [
       "                                                     text  \\\n",
       "count                                                 970   \n",
       "unique                                                970   \n",
       "top     Abdominal aortic aneurysms often grow slowly w...   \n",
       "freq                                                    1   \n",
       "\n",
       "                          disease  \n",
       "count                         970  \n",
       "unique                        970  \n",
       "top     Abdominal Aortic Aneurysm  \n",
       "freq                            1  "
      ]
     },
     "execution_count": 20,
     "metadata": {},
     "output_type": "execute_result"
    }
   ],
   "source": [
    "single_df.describe()"
   ]
  },
  {
   "cell_type": "code",
   "execution_count": 21,
   "id": "0fc08d76",
   "metadata": {
    "execution": {
     "iopub.execute_input": "2024-06-11T08:42:46.424090Z",
     "iopub.status.busy": "2024-06-11T08:42:46.423710Z",
     "iopub.status.idle": "2024-06-11T08:42:46.438875Z",
     "shell.execute_reply": "2024-06-11T08:42:46.437970Z"
    },
    "papermill": {
     "duration": 0.027352,
     "end_time": "2024-06-11T08:42:46.441168",
     "exception": false,
     "start_time": "2024-06-11T08:42:46.413816",
     "status": "completed"
    },
    "tags": []
   },
   "outputs": [
    {
     "data": {
      "text/html": [
       "<div>\n",
       "<style scoped>\n",
       "    .dataframe tbody tr th:only-of-type {\n",
       "        vertical-align: middle;\n",
       "    }\n",
       "\n",
       "    .dataframe tbody tr th {\n",
       "        vertical-align: top;\n",
       "    }\n",
       "\n",
       "    .dataframe thead th {\n",
       "        text-align: right;\n",
       "    }\n",
       "</style>\n",
       "<table border=\"1\" class=\"dataframe\">\n",
       "  <thead>\n",
       "    <tr style=\"text-align: right;\">\n",
       "      <th></th>\n",
       "      <th>text</th>\n",
       "      <th>disease</th>\n",
       "    </tr>\n",
       "  </thead>\n",
       "  <tbody>\n",
       "    <tr>\n",
       "      <th>count</th>\n",
       "      <td>2289</td>\n",
       "      <td>2289</td>\n",
       "    </tr>\n",
       "    <tr>\n",
       "      <th>unique</th>\n",
       "      <td>2289</td>\n",
       "      <td>82</td>\n",
       "    </tr>\n",
       "    <tr>\n",
       "      <th>top</th>\n",
       "      <td>vomiting,headache,nausea,loss_of_balance,unste...</td>\n",
       "      <td>Diabetes</td>\n",
       "    </tr>\n",
       "    <tr>\n",
       "      <th>freq</th>\n",
       "      <td>1</td>\n",
       "      <td>96</td>\n",
       "    </tr>\n",
       "  </tbody>\n",
       "</table>\n",
       "</div>"
      ],
      "text/plain": [
       "                                                     text   disease\n",
       "count                                                2289      2289\n",
       "unique                                               2289        82\n",
       "top     vomiting,headache,nausea,loss_of_balance,unste...  Diabetes\n",
       "freq                                                    1        96"
      ]
     },
     "execution_count": 21,
     "metadata": {},
     "output_type": "execute_result"
    }
   ],
   "source": [
    "train_df.describe()"
   ]
  },
  {
   "cell_type": "code",
   "execution_count": 22,
   "id": "83a348fc",
   "metadata": {
    "execution": {
     "iopub.execute_input": "2024-06-11T08:42:46.460914Z",
     "iopub.status.busy": "2024-06-11T08:42:46.460485Z",
     "iopub.status.idle": "2024-06-11T08:42:46.475933Z",
     "shell.execute_reply": "2024-06-11T08:42:46.474789Z"
    },
    "papermill": {
     "duration": 0.028033,
     "end_time": "2024-06-11T08:42:46.478271",
     "exception": false,
     "start_time": "2024-06-11T08:42:46.450238",
     "status": "completed"
    },
    "tags": []
   },
   "outputs": [
    {
     "data": {
      "text/html": [
       "<div>\n",
       "<style scoped>\n",
       "    .dataframe tbody tr th:only-of-type {\n",
       "        vertical-align: middle;\n",
       "    }\n",
       "\n",
       "    .dataframe tbody tr th {\n",
       "        vertical-align: top;\n",
       "    }\n",
       "\n",
       "    .dataframe thead th {\n",
       "        text-align: right;\n",
       "    }\n",
       "</style>\n",
       "<table border=\"1\" class=\"dataframe\">\n",
       "  <thead>\n",
       "    <tr style=\"text-align: right;\">\n",
       "      <th></th>\n",
       "      <th>text</th>\n",
       "      <th>disease</th>\n",
       "    </tr>\n",
       "  </thead>\n",
       "  <tbody>\n",
       "    <tr>\n",
       "      <th>count</th>\n",
       "      <td>618</td>\n",
       "      <td>618</td>\n",
       "    </tr>\n",
       "    <tr>\n",
       "      <th>unique</th>\n",
       "      <td>618</td>\n",
       "      <td>82</td>\n",
       "    </tr>\n",
       "    <tr>\n",
       "      <th>top</th>\n",
       "      <td>vomiting,headache,nausea,spinning_movements,lo...</td>\n",
       "      <td>Common Cold</td>\n",
       "    </tr>\n",
       "    <tr>\n",
       "      <th>freq</th>\n",
       "      <td>1</td>\n",
       "      <td>24</td>\n",
       "    </tr>\n",
       "  </tbody>\n",
       "</table>\n",
       "</div>"
      ],
      "text/plain": [
       "                                                     text      disease\n",
       "count                                                 618          618\n",
       "unique                                                618           82\n",
       "top     vomiting,headache,nausea,spinning_movements,lo...  Common Cold\n",
       "freq                                                    1           24"
      ]
     },
     "execution_count": 22,
     "metadata": {},
     "output_type": "execute_result"
    }
   ],
   "source": [
    "test_df.describe()"
   ]
  },
  {
   "cell_type": "code",
   "execution_count": 23,
   "id": "4ce4c0e0",
   "metadata": {
    "execution": {
     "iopub.execute_input": "2024-06-11T08:42:46.500079Z",
     "iopub.status.busy": "2024-06-11T08:42:46.499683Z",
     "iopub.status.idle": "2024-06-11T08:42:46.514776Z",
     "shell.execute_reply": "2024-06-11T08:42:46.513909Z"
    },
    "papermill": {
     "duration": 0.029729,
     "end_time": "2024-06-11T08:42:46.517283",
     "exception": false,
     "start_time": "2024-06-11T08:42:46.487554",
     "status": "completed"
    },
    "tags": []
   },
   "outputs": [],
   "source": [
    "# Merge train_df and single_df into train_df\n",
    "train_df = pd.concat([train_df, single_df])\n",
    "train_df = train_df.drop_duplicates(keep = 'last')\n",
    "\n",
    "# Sort the DataFrame based on the 'disease' column\n",
    "train_df = train_df.sort_values(by='disease')\n",
    "test_df = test_df.sort_values(by='disease')"
   ]
  },
  {
   "cell_type": "code",
   "execution_count": 24,
   "id": "88ff93b2",
   "metadata": {
    "execution": {
     "iopub.execute_input": "2024-06-11T08:42:46.537721Z",
     "iopub.status.busy": "2024-06-11T08:42:46.537329Z",
     "iopub.status.idle": "2024-06-11T08:42:46.554638Z",
     "shell.execute_reply": "2024-06-11T08:42:46.553486Z"
    },
    "papermill": {
     "duration": 0.030404,
     "end_time": "2024-06-11T08:42:46.556966",
     "exception": false,
     "start_time": "2024-06-11T08:42:46.526562",
     "status": "completed"
    },
    "tags": []
   },
   "outputs": [
    {
     "data": {
      "text/html": [
       "<div>\n",
       "<style scoped>\n",
       "    .dataframe tbody tr th:only-of-type {\n",
       "        vertical-align: middle;\n",
       "    }\n",
       "\n",
       "    .dataframe tbody tr th {\n",
       "        vertical-align: top;\n",
       "    }\n",
       "\n",
       "    .dataframe thead th {\n",
       "        text-align: right;\n",
       "    }\n",
       "</style>\n",
       "<table border=\"1\" class=\"dataframe\">\n",
       "  <thead>\n",
       "    <tr style=\"text-align: right;\">\n",
       "      <th></th>\n",
       "      <th>text</th>\n",
       "      <th>disease</th>\n",
       "    </tr>\n",
       "  </thead>\n",
       "  <tbody>\n",
       "    <tr>\n",
       "      <th>count</th>\n",
       "      <td>3259</td>\n",
       "      <td>3259</td>\n",
       "    </tr>\n",
       "    <tr>\n",
       "      <th>unique</th>\n",
       "      <td>3255</td>\n",
       "      <td>1052</td>\n",
       "    </tr>\n",
       "    <tr>\n",
       "      <th>top</th>\n",
       "      <td>pain in the lower right abdomen,nausea,vomitin...</td>\n",
       "      <td>Diabetes</td>\n",
       "    </tr>\n",
       "    <tr>\n",
       "      <th>freq</th>\n",
       "      <td>2</td>\n",
       "      <td>96</td>\n",
       "    </tr>\n",
       "  </tbody>\n",
       "</table>\n",
       "</div>"
      ],
      "text/plain": [
       "                                                     text   disease\n",
       "count                                                3259      3259\n",
       "unique                                               3255      1052\n",
       "top     pain in the lower right abdomen,nausea,vomitin...  Diabetes\n",
       "freq                                                    2        96"
      ]
     },
     "execution_count": 24,
     "metadata": {},
     "output_type": "execute_result"
    }
   ],
   "source": [
    "train_df.describe()"
   ]
  },
  {
   "cell_type": "code",
   "execution_count": 25,
   "id": "f2ba14a8",
   "metadata": {
    "execution": {
     "iopub.execute_input": "2024-06-11T08:42:46.577322Z",
     "iopub.status.busy": "2024-06-11T08:42:46.576939Z",
     "iopub.status.idle": "2024-06-11T08:42:46.591547Z",
     "shell.execute_reply": "2024-06-11T08:42:46.590543Z"
    },
    "papermill": {
     "duration": 0.02747,
     "end_time": "2024-06-11T08:42:46.593843",
     "exception": false,
     "start_time": "2024-06-11T08:42:46.566373",
     "status": "completed"
    },
    "tags": []
   },
   "outputs": [
    {
     "data": {
      "text/html": [
       "<div>\n",
       "<style scoped>\n",
       "    .dataframe tbody tr th:only-of-type {\n",
       "        vertical-align: middle;\n",
       "    }\n",
       "\n",
       "    .dataframe tbody tr th {\n",
       "        vertical-align: top;\n",
       "    }\n",
       "\n",
       "    .dataframe thead th {\n",
       "        text-align: right;\n",
       "    }\n",
       "</style>\n",
       "<table border=\"1\" class=\"dataframe\">\n",
       "  <thead>\n",
       "    <tr style=\"text-align: right;\">\n",
       "      <th></th>\n",
       "      <th>text</th>\n",
       "      <th>disease</th>\n",
       "    </tr>\n",
       "  </thead>\n",
       "  <tbody>\n",
       "    <tr>\n",
       "      <th>count</th>\n",
       "      <td>618</td>\n",
       "      <td>618</td>\n",
       "    </tr>\n",
       "    <tr>\n",
       "      <th>unique</th>\n",
       "      <td>618</td>\n",
       "      <td>82</td>\n",
       "    </tr>\n",
       "    <tr>\n",
       "      <th>top</th>\n",
       "      <td>vomiting,headache,nausea,spinning_movements,lo...</td>\n",
       "      <td>Common Cold</td>\n",
       "    </tr>\n",
       "    <tr>\n",
       "      <th>freq</th>\n",
       "      <td>1</td>\n",
       "      <td>24</td>\n",
       "    </tr>\n",
       "  </tbody>\n",
       "</table>\n",
       "</div>"
      ],
      "text/plain": [
       "                                                     text      disease\n",
       "count                                                 618          618\n",
       "unique                                                618           82\n",
       "top     vomiting,headache,nausea,spinning_movements,lo...  Common Cold\n",
       "freq                                                    1           24"
      ]
     },
     "execution_count": 25,
     "metadata": {},
     "output_type": "execute_result"
    }
   ],
   "source": [
    "test_df.describe()"
   ]
  },
  {
   "cell_type": "code",
   "execution_count": 26,
   "id": "51dead44",
   "metadata": {
    "execution": {
     "iopub.execute_input": "2024-06-11T08:42:46.614337Z",
     "iopub.status.busy": "2024-06-11T08:42:46.613969Z",
     "iopub.status.idle": "2024-06-11T08:42:46.663173Z",
     "shell.execute_reply": "2024-06-11T08:42:46.662052Z"
    },
    "papermill": {
     "duration": 0.062489,
     "end_time": "2024-06-11T08:42:46.665778",
     "exception": false,
     "start_time": "2024-06-11T08:42:46.603289",
     "status": "completed"
    },
    "tags": []
   },
   "outputs": [],
   "source": [
    "#save as csv files\n",
    "train_df.to_csv('/kaggle/working/train.csv', index=False)\n",
    "test_df.to_csv('/kaggle/working/test_primary.csv', index=False)"
   ]
  },
  {
   "cell_type": "code",
   "execution_count": 27,
   "id": "8aa0a6d0",
   "metadata": {
    "execution": {
     "iopub.execute_input": "2024-06-11T08:42:46.686976Z",
     "iopub.status.busy": "2024-06-11T08:42:46.686606Z",
     "iopub.status.idle": "2024-06-11T08:42:46.690866Z",
     "shell.execute_reply": "2024-06-11T08:42:46.689971Z"
    },
    "papermill": {
     "duration": 0.017725,
     "end_time": "2024-06-11T08:42:46.693130",
     "exception": false,
     "start_time": "2024-06-11T08:42:46.675405",
     "status": "completed"
    },
    "tags": []
   },
   "outputs": [],
   "source": [
    "#ALL Done"
   ]
  }
 ],
 "metadata": {
  "kaggle": {
   "accelerator": "none",
   "dataSources": [
    {
     "datasetId": 5169367,
     "sourceId": 8633016,
     "sourceType": "datasetVersion"
    },
    {
     "datasetId": 5169517,
     "sourceId": 8633235,
     "sourceType": "datasetVersion"
    },
    {
     "datasetId": 5170319,
     "sourceId": 8634334,
     "sourceType": "datasetVersion"
    },
    {
     "datasetId": 5168643,
     "sourceId": 8634385,
     "sourceType": "datasetVersion"
    },
    {
     "datasetId": 4476607,
     "sourceId": 7674502,
     "sourceType": "datasetVersion"
    },
    {
     "datasetId": 3302722,
     "sourceId": 5741291,
     "sourceType": "datasetVersion"
    },
    {
     "datasetId": 3087304,
     "sourceId": 5312008,
     "sourceType": "datasetVersion"
    }
   ],
   "dockerImageVersionId": 30732,
   "isGpuEnabled": false,
   "isInternetEnabled": true,
   "language": "python",
   "sourceType": "notebook"
  },
  "kernelspec": {
   "display_name": "Python 3",
   "language": "python",
   "name": "python3"
  },
  "language_info": {
   "codemirror_mode": {
    "name": "ipython",
    "version": 3
   },
   "file_extension": ".py",
   "mimetype": "text/x-python",
   "name": "python",
   "nbconvert_exporter": "python",
   "pygments_lexer": "ipython3",
   "version": "3.10.13"
  },
  "papermill": {
   "default_parameters": {},
   "duration": 6.512345,
   "end_time": "2024-06-11T08:42:47.222818",
   "environment_variables": {},
   "exception": null,
   "input_path": "__notebook__.ipynb",
   "output_path": "__notebook__.ipynb",
   "parameters": {},
   "start_time": "2024-06-11T08:42:40.710473",
   "version": "2.5.0"
  }
 },
 "nbformat": 4,
 "nbformat_minor": 5
}
